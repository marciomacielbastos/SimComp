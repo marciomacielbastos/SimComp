{
 "cells": [
  {
   "cell_type": "markdown",
   "metadata": {},
   "source": [
    "#EMAp-FGV\n",
    "##Trabalho de Simulação Computacional  \n",
    "###Professor: Hugo de la Cruz  \n",
    "###Aluno: Marcio Maciel Bastos"
   ]
  },
  {
   "cell_type": "code",
   "execution_count": 1,
   "metadata": {
    "collapsed": true
   },
   "outputs": [],
   "source": [
    "import numpy as np\n",
    "from numpy.linalg import inv\n",
    "import collections\n",
    "import matplotlib.pyplot as plt\n",
    "import math\n",
    "from pylab import linspace,pi,exp,real,imag,axis\n",
    "import matplotlib.path as mpath\n",
    "import matplotlib.patches as mpatches\n",
    "import matplotlib.pyplot as plt\n",
    "%matplotlib inline\n"
   ]
  },
  {
   "cell_type": "markdown",
   "metadata": {},
   "source": [
    "##1. Considere a equação diferencial"
   ]
  },
  {
   "cell_type": "markdown",
   "metadata": {},
   "source": [
    "$ \\dot{x}(t) = \\left( \\begin{array}{cc}\n",
    "-100 & 1 \\\\\n",
    " 0 & -\\frac{1}{10} \\end{array} \\right)x(t)$"
   ]
  },
  {
   "cell_type": "markdown",
   "metadata": {},
   "source": [
    "#### (a) Implemente uma função em Python que construa uma aproximação da solução usando o método de Euler explícito (Forward Euler). Considere como parâmetros de entradas o tamanho de paso h, o intervalo de integração e as condições iniciais."
   ]
  },
  {
   "cell_type": "markdown",
   "metadata": {},
   "source": [
    "Forward de Euler:  \n",
    "$y_{n+1} = y_{n} + hf(y_{n},t_{n})$"
   ]
  },
  {
   "cell_type": "code",
   "execution_count": 2,
   "metadata": {
    "collapsed": false
   },
   "outputs": [],
   "source": [
    "def setA(M):\n",
    "    return M[:, 0]+M[:, 1]\n"
   ]
  },
  {
   "cell_type": "code",
   "execution_count": 3,
   "metadata": {
    "collapsed": true
   },
   "outputs": [],
   "source": [
    "def euler_forward(intervalo, h):\n",
    "    X = dict(np.array([]))\n",
    "    A = np.array([[-100, 1], [0, -1/float(10)]])\n",
    "    X[intervalo[0]] = np.array([0,1])\n",
    "    N = int((intervalo[1]-intervalo[0])/h)\n",
    "    key = round(intervalo[0], 1)\n",
    "    for i in range(1,int(N)+1):\n",
    "        x = X[key]\n",
    "        Ar = A*x\n",
    "        key += h\n",
    "        key = round(key, 1)\n",
    "        X[key] = x + h*(setA(Ar))\n",
    "    return collections.OrderedDict(sorted(X.items()))\n"
   ]
  },
  {
   "cell_type": "markdown",
   "metadata": {},
   "source": [
    "####(b) Teste seu programa para diferentes valores de $h$ (para valores $h > \\frac{1}{50}$ e valores $h < \\frac{1}{50}$) e compare com a solução exata do sistema (para obter a solução exata, note que a matriz da $EDO$ pode-se diagonalizar. Explique os resultados computacionais obtidos, com base em seus conhecimentos de estabilidade absoluta (A-stability) para o método de Euler."
   ]
  },
  {
   "cell_type": "markdown",
   "metadata": {},
   "source": [
    "Fazendo $x(t) = \\left( \\begin{array}{c}\n",
    "    x_{1}(t) \\\\\n",
    "    x_{2}(t)\\end{array} \\right)$ "
   ]
  },
  {
   "cell_type": "code",
   "execution_count": 4,
   "metadata": {
    "collapsed": false
   },
   "outputs": [],
   "source": [
    "def set_(interv, b):\n",
    "    h = np.array([])\n",
    "    X1 = np.array([])\n",
    "    X2 = np.array([])\n",
    "    for i in interv:\n",
    "        if(b is False):\n",
    "            X = euler_forward([0.0, 2.0], 1/float(i))\n",
    "        elif(b is True):\n",
    "            X = euler_backward([0.0, 2.0], 1/float(i))\n",
    "        X1 = np.append(X1, X[max(X.keys())][0])\n",
    "        X2 = np.append(X2, X[max(X.keys())][1])\n",
    "        h = np.append(h, 1/float(i))\n",
    "    return h, X1, X2\n"
   ]
  },
  {
   "cell_type": "code",
   "execution_count": 5,
   "metadata": {
    "collapsed": false
   },
   "outputs": [],
   "source": [
    "def plot(h, X1, X2):\n",
    "    plt.figure(1)\n",
    "    plt.plot(h, X1)\n",
    "    plt.xlabel('valor do h')\n",
    "    plt.gca().invert_xaxis()\n",
    "    plt.ylabel('valor do X1')\n",
    "    plt.title(u'Gráfico do X1')\n",
    "    plt.figure(2)\n",
    "    plt.plot(h, X2)\n",
    "    plt.xlabel('valor do h')\n",
    "    plt.gca().invert_xaxis()\n",
    "    plt.ylabel('valor do X2')\n",
    "    plt.title(u'Gráfico do X2')\n",
    "    plt.show()\n",
    "    "
   ]
  },
  {
   "cell_type": "code",
   "execution_count": 6,
   "metadata": {
    "collapsed": false
   },
   "outputs": [],
   "source": [
    "def printer(h, X1, X2, inter):\n",
    "    print \"  h  |     X1     |     X2     \"  \n",
    "    for i in range(inter):\n",
    "        print str(round(h[i],4))+\" | \"+ str(round(X1[i],4))+\" | \"+str(round(X2[i],4))\n",
    "        "
   ]
  },
  {
   "cell_type": "code",
   "execution_count": 7,
   "metadata": {
    "collapsed": false
   },
   "outputs": [
    {
     "data": {
      "image/png": "[encoded data removed]",
      "text/plain": [
       "<matplotlib.figure.Figure at 0x7f8a2b9591d0>"
      ]
     },
     "metadata": {},
     "output_type": "display_data"
    },
    {
     "data": {
      "image/png": "[encoded data removed]",
      "text/plain": [
       "<matplotlib.figure.Figure at 0x7f8a243075d0>"
      ]
     },
     "metadata": {},
     "output_type": "display_data"
    },
    {
     "name": "stdout",
     "output_type": "stream",
     "text": [
      "  h  |     X1     |     X2     \n",
      "0.1 | -1.21698352944e+17 | 0.8179\n",
      "0.05 | -1.21013595557e+22 | 0.8183\n",
      "0.0333 | -1.19961428709e+20 | 0.8185\n",
      "0.025 | -1.22386985041e+12 | 0.8185\n",
      "0.0204 | -0.4966 | 0.8186\n"
     ]
    }
   ],
   "source": [
    "h, X1, X2 = set_([10,20,30,40,49], False)\n",
    "plot(h, X1, X2)\n",
    "printer(h, X1, X2, len([10,20,30,40,49]))\n"
   ]
  },
  {
   "cell_type": "code",
   "execution_count": 8,
   "metadata": {
    "collapsed": false
   },
   "outputs": [
    {
     "data": {
      "image/png": "[encoded data removed]",
      "text/plain": [
       "<matplotlib.figure.Figure at 0x7f8a241dbc90>"
      ]
     },
     "metadata": {},
     "output_type": "display_data"
    },
    {
     "data": {
      "image/png": "[encoded data removed]",
      "text/plain": [
       "<matplotlib.figure.Figure at 0x7f8a2415fb10>"
      ]
     },
     "metadata": {},
     "output_type": "display_data"
    },
    {
     "name": "stdout",
     "output_type": "stream",
     "text": [
      "  h  |     X1     |     X2     \n",
      "0.02 | -0.0018 | 0.8186\n",
      "0.01 | 0.0082 | 0.8186\n",
      "0.002 | 0.0082 | 0.8187\n",
      "0.001 | 0.0082 | 0.8187\n",
      "0.0002 | 0.0082 | 0.8187\n"
     ]
    }
   ],
   "source": [
    "intervalo = [50,100,500,1000,5000]\n",
    "h, X1, X2 = set_(intervalo, False)\n",
    "plot(h, X1, X2)\n",
    "printer(h, X1, X2, len(intervalo))\n"
   ]
  },
  {
   "cell_type": "markdown",
   "metadata": {},
   "source": [
    "$ \\dot{x}(t) = \\left( \\begin{array}{cc}\n",
    "-100 & 1 \\\\\n",
    " 0 & -\\frac{1}{10} \\end{array} \\right)x(t)$  \n",
    "    \n",
    "$x(0) = \\left( \\begin{array}{c}\n",
    "    0 \\\\\n",
    "    1\\end{array} \\right)$  "
   ]
  },
  {
   "cell_type": "markdown",
   "metadata": {},
   "source": [
    "$\\left| \\begin{array}{cc}\n",
    "-100 -\\lambda & 1 \\\\\n",
    "     0 & -\\frac{1}{10} -\\lambda \\end{array} \\right| =$  \n",
    "  \n",
    "$(-100 -\\lambda)(-\\frac{1}{10} -\\lambda) = 0$"
   ]
  },
  {
   "cell_type": "markdown",
   "metadata": {
    "collapsed": true
   },
   "source": [
    "$\\lambda^{2} + (100+\\frac{1}{10})\\lambda +10$"
   ]
  },
  {
   "cell_type": "markdown",
   "metadata": {},
   "source": [
    "$\\Delta = 9980.01 \\\\\n",
    "\\lambda_{1} = -0.1 \\\\\n",
    "\\lambda_{2} = -100\n",
    "$"
   ]
  },
  {
   "cell_type": "markdown",
   "metadata": {},
   "source": [
    "1. $\\lambda = \\lambda_1 \\\\\n",
    "\\left( \\begin{array}{cc}\n",
    "-100 +0.1 & 1 \\\\\n",
    "     0 & -\\frac{1}{10} +0.1 \\end{array} \\right)\\left( \\begin{array}{c}\n",
    "    \\xi_1 \\\\\n",
    "    \\xi_2\\end{array} \\right)\\implies \\xi^{(1)}= \\left( \\begin{array}{c}\n",
    "    1 \\\\\n",
    "    99.9\\end{array} \\right) \\\\\n",
    "$\n",
    "2. $\\lambda = \\lambda_2 \\\\\n",
    "\\left( \\begin{array}{cc}\n",
    "-100 +100 & 1 \\\\\n",
    "     0 & -\\frac{1}{10} +100 \\end{array} \\right)\\left( \\begin{array}{c}\n",
    "    \\xi_1 \\\\\n",
    "    \\xi_2\\end{array} \\right)\\implies \\xi^{(2)}= \\left( \\begin{array}{c}\n",
    "    1 \\\\\n",
    "    0\\end{array} \\right) \\\\\n",
    "$"
   ]
  },
  {
   "cell_type": "markdown",
   "metadata": {},
   "source": [
    "No intervalo $[0,2]$, $W \\neq 0$"
   ]
  },
  {
   "cell_type": "markdown",
   "metadata": {},
   "source": [
    "$x(t) = C_{1} \\left( \\begin{array}{c}\n",
    "    1 \\\\\n",
    "    99.9\\end{array} \\right)e^{-0.1t} + C_{2} \\left( \\begin{array}{c}\n",
    "    1 \\\\\n",
    "    0\\end{array} \\right)e^{-100t} $"
   ]
  },
  {
   "cell_type": "markdown",
   "metadata": {},
   "source": [
    "$x(0) = C_{1} \\left( \\begin{array}{c}\n",
    "    1 \\\\\n",
    "    99.9\\end{array} \\right) + C_{2} \\left( \\begin{array}{c}\n",
    "    1 \\\\\n",
    "    0\\end{array} \\right) = \\left( \\begin{array}{c}\n",
    "    0 \\\\\n",
    "    1\\end{array} \\right) \\implies C_{1} = -C_{2}$  \n",
    "$C_{2} = \\frac{1}{99.9}$"
   ]
  },
  {
   "cell_type": "markdown",
   "metadata": {},
   "source": [
    "$x(2) =  +\\frac{1}{99.9}\\left( \\begin{array}{c}\n",
    "    1 \\\\\n",
    "    99.9\\end{array} \\right)e^{-0.2} - \\frac{1}{99.9} \\left( \\begin{array}{c}\n",
    "    1 \\\\\n",
    "    0\\end{array} \\right)e^{-200} \\approx \\left( \\begin{array}{c}\n",
    "    0.0082 \\\\\n",
    "    0.8187\\end{array} \\right)$"
   ]
  },
  {
   "cell_type": "markdown",
   "metadata": {},
   "source": [
    "Pelo problema exposto e pelo método de Euler temos:"
   ]
  },
  {
   "cell_type": "markdown",
   "metadata": {},
   "source": [
    "$ A = \\left( \\begin{array}{cc}\n",
    "-100 & 1 \\\\\n",
    " 0 & -\\frac{1}{10} \\end{array} \\right)$"
   ]
  },
  {
   "cell_type": "markdown",
   "metadata": {},
   "source": [
    "$\\dot{x}=Ax$, como $A$ é diagonalizável, podemos fazer $A = V\\Lambda V^{-1}$ e introduzir $y(t) = V^{-1}x(t)$:"
   ]
  },
  {
   "cell_type": "markdown",
   "metadata": {},
   "source": [
    "$V^{-1}x(t) = V^{-1}Ax = V^{-1}AVV^{-1}x = \\Lambda V^{-1}x$ "
   ]
  },
  {
   "cell_type": "markdown",
   "metadata": {},
   "source": [
    "e portanto:"
   ]
  },
  {
   "cell_type": "markdown",
   "metadata": {},
   "source": [
    "$\\dot{y}(t)=\\Lambda y(t)$ e assim: "
   ]
  },
  {
   "cell_type": "markdown",
   "metadata": {},
   "source": [
    "$\\dot{y}_{i}(t)=\\Lambda_{i} y_{i}(t)$"
   ]
  },
  {
   "cell_type": "markdown",
   "metadata": {},
   "source": [
    "$\\Lambda = \\left( \\begin{array}{cc}\n",
    "-100 & 0 \\\\\n",
    " 0 & -\\frac{1}{10} \\end{array} \\right)$"
   ]
  },
  {
   "cell_type": "markdown",
   "metadata": {},
   "source": [
    "e finalmente:"
   ]
  },
  {
   "cell_type": "markdown",
   "metadata": {},
   "source": [
    "$y_{n+1} = V\\left( \\begin{array}{cc}\n",
    "(1-100h) & 0 \\\\\n",
    " 0 & (1-\\frac{1}{10}h) \\end{array} \\right)V^{-1}y_{n} = V\\left( \\begin{array}{cc}\n",
    "(1-100h)^{n} & 0 \\\\\n",
    " 0 & (1-\\frac{1}{10}h)^{n} \\end{array} \\right)V^{-1}y_{0}$"
   ]
  },
  {
   "cell_type": "markdown",
   "metadata": {},
   "source": [
    "Temos que a sua região de A-estabilidade $S = \\{\\lambda h \\in \\mathbb{C}: |R(\\lambda h)| < 1$"
   ]
  },
  {
   "cell_type": "markdown",
   "metadata": {},
   "source": [
    "portanto $|1-100h|<1$ e $|(1-\\frac{1}{10}h)|<1$ e assim:"
   ]
  },
  {
   "cell_type": "markdown",
   "metadata": {},
   "source": [
    "$h<\\frac{2}{100} = \\frac{1}{50}$"
   ]
  },
  {
   "cell_type": "markdown",
   "metadata": {},
   "source": [
    "Pudemos constatar que para convergir para a solução de forma estável devemos escolher $h< \\frac{1}{50}$, como pode ser verificado experimentalmente, isso se deve ao fato de a àrea de A-estabilidade estar no círculo do plano imaginário tal que $h<\\frac{1}{50}$"
   ]
  },
  {
   "cell_type": "code",
   "execution_count": 9,
   "metadata": {
    "collapsed": false
   },
   "outputs": [],
   "source": [
    "r=exp(1j*linspace(0,2*pi,10000))\n"
   ]
  },
  {
   "cell_type": "code",
   "execution_count": 10,
   "metadata": {
    "collapsed": false
   },
   "outputs": [
    {
     "data": {
      "image/png": "[encoded data removed]",
      "text/plain": [
       "<matplotlib.figure.Figure at 0x7f8a240001d0>"
      ]
     },
     "metadata": {},
     "output_type": "display_data"
    }
   ],
   "source": [
    "Path=mpath.Path\n",
    "fig = plt.figure()\n",
    "for name,z in zip(['Euler'],[r-1]):\n",
    "    fig.clf()\n",
    "    ax=fig.add_subplot(111)\n",
    "\n",
    "    verts=map(lambda z:(real(z),imag(z)), z)\n",
    "\n",
    "    codes=[Path.MOVETO]+[Path.LINETO]*(len(verts)-2)+[Path.CLOSEPOLY]\n",
    "\n",
    "    path=mpath.Path(verts,codes)\n",
    "    patch=mpatches.PathPatch(path,facecolor=[1, 0.5, 0.5],edgecolor='black',alpha=1)\n",
    "    ax.add_patch(patch)\n",
    "    ax.plot([-6,4],[0,0],'--',color='black')\n",
    "    ax.plot([0,0],[-6,6],'--',color='black')\n",
    "    plt.title(u'Região de A-estabilidade do método Euler')\n",
    "    ax.set_xlim(-3,2)\n",
    "    ax.set_ylim(-3,3)\n",
    "    "
   ]
  },
  {
   "cell_type": "markdown",
   "metadata": {},
   "source": [
    "####(c) Implemente o método de Euler implícito (Backward Euler) para este sistema e compare com os resultados obtidos com o Euler explicito (Forward Euler). Explique porque o desempenho do Backward Euler é melhor."
   ]
  },
  {
   "cell_type": "code",
   "execution_count": 11,
   "metadata": {
    "collapsed": true
   },
   "outputs": [],
   "source": [
    "def euler_backward(intervalo, h):\n",
    "    X = dict(np.array([]))\n",
    "    A = np.array([[-100, 1], [0, -1/float(10)]])\n",
    "    X[intervalo[0]] = np.array([0, 1])\n",
    "    N = int((intervalo[1]-intervalo[0])/h)\n",
    "    I = np.identity(2)\n",
    "    IA = inv(I-h*A)\n",
    "    key = round(intervalo[0], 1)\n",
    "    for i in range(1,int(N)+1):\n",
    "        x = X[key]\n",
    "        Ar = setA(IA*x)\n",
    "        key += h\n",
    "        key = round(key, 1)\n",
    "        X[key] = Ar\n",
    "    return collections.OrderedDict(sorted(X.items()))\n"
   ]
  },
  {
   "cell_type": "code",
   "execution_count": 12,
   "metadata": {
    "collapsed": false,
    "scrolled": false
   },
   "outputs": [
    {
     "data": {
      "image/png": "[encoded data removed]",
      "text/plain": [
       "<matplotlib.figure.Figure at 0x7f8a2420f8d0>"
      ]
     },
     "metadata": {},
     "output_type": "display_data"
    },
    {
     "data": {
      "image/png": "[encoded data removed]",
      "text/plain": [
       "<matplotlib.figure.Figure at 0x7f8a23af8310>"
      ]
     },
     "metadata": {},
     "output_type": "display_data"
    },
    {
     "name": "stdout",
     "output_type": "stream",
     "text": [
      "  h  |     X1     |     X2     \n",
      "0.1 | 0.0082 | 0.8195\n",
      "0.05 | 0.0082 | 0.8191\n",
      "0.0333 | 0.0082 | 0.819\n",
      "0.025 | 0.0082 | 0.8189\n",
      "0.0204 | 0.0082 | 0.8189\n"
     ]
    }
   ],
   "source": [
    "h, X1, X2 = set_([10,20,30,40,49], True)\n",
    "plot(h, X1, X2)\n",
    "printer(h, X1, X2, len([10,20,30,40,49]))\n"
   ]
  },
  {
   "cell_type": "code",
   "execution_count": 13,
   "metadata": {
    "collapsed": false
   },
   "outputs": [
    {
     "data": {
      "image/png": "[encoded data removed]",
      "text/plain": [
       "<matplotlib.figure.Figure at 0x7f8a241d2a90>"
      ]
     },
     "metadata": {},
     "output_type": "display_data"
    },
    {
     "data": {
      "image/png": "[encoded data removed]",
      "text/plain": [
       "<matplotlib.figure.Figure at 0x7f8a2398e690>"
      ]
     },
     "metadata": {},
     "output_type": "display_data"
    },
    {
     "name": "stdout",
     "output_type": "stream",
     "text": [
      "  h  |     X1     |     X2     \n",
      "0.02 | 0.0082 | 0.8189\n",
      "0.01 | 0.0082 | 0.8188\n",
      "0.002 | 0.0082 | 0.8187\n",
      "0.001 | 0.0082 | 0.8187\n",
      "0.0002 | 0.0082 | 0.8187\n"
     ]
    }
   ],
   "source": [
    "intervalo = [50,100,500,1000,5000]\n",
    "h, X1, X2 = set_(intervalo, True)\n",
    "plot(h, X1, X2)\n",
    "printer(h, X1, X2, len(intervalo))\n"
   ]
  },
  {
   "cell_type": "markdown",
   "metadata": {},
   "source": [
    "Verificamos que a velocidade de convergência do backward é maior, isso é explicado porque em uma interação só usamos o elemento corrente, diferentemente do método forward, que utilizamos o elemento anterior."
   ]
  },
  {
   "cell_type": "markdown",
   "metadata": {},
   "source": [
    "##2. Considerando o método do Trapézio:"
   ]
  },
  {
   "cell_type": "markdown",
   "metadata": {},
   "source": [
    "####(a) Prove que o método é convergente. "
   ]
  },
  {
   "cell_type": "markdown",
   "metadata": {},
   "source": [
    "Regra do trapézio:  \n",
    "$y_{n+1}=y_{n} + \\frac{h}{2}[f(t_{n},y_{n})+f(t_{n+1},y_{n+1})]$  \n",
    "  \n",
    "$y_{n+1}=y_{n} + \\frac{h}{2}[\\lambda y_{n}+\\lambda y_{n+1}]$  \n",
    "  \n",
    "$(1-\\frac{h\\lambda}{2})y_{n+1}=(1+\\frac{h\\lambda}{2})y_{n}$  \n",
    "  \n",
    "$y_{n+1}=\\frac{(1+\\frac{h\\lambda}{2})}{(1-\\frac{h\\lambda}{2})}y_{n} \\implies y_{n+1}=\\frac{(2+h\\lambda)}{(2-h\\lambda)}y_{n}$  \n",
    "  \n",
    "Para ser convergente:  \n",
    "  \n",
    "$\\Big|\\frac{(2+h\\lambda)}{(2-h\\lambda)}y_{n}\\Big|<1$, de forma que:  \n",
    "  \n",
    "$y_{n+1}=\\Big(\\frac{(2+h\\lambda)}{(2-h\\lambda)}\\Big)^{n}y_{0}$, converge para zero $(0)$ quando $n\\rightarrow \\infty$ para qualquer $h$, tal que $\\Re(h\\lambda)<0$ "
   ]
  },
  {
   "cell_type": "markdown",
   "metadata": {},
   "source": [
    "####(b) Compare a região de A-estabilidade de este método com aquela do método de Heun (Trapézio explícito)."
   ]
  },
  {
   "cell_type": "markdown",
   "metadata": {},
   "source": [
    "Região de A-estabilidade do Trapezoidal de acordo com o ítem (a):  "
   ]
  },
  {
   "cell_type": "code",
   "execution_count": 14,
   "metadata": {
    "collapsed": false
   },
   "outputs": [
    {
     "data": {
      "image/png": "[encoded data removed]",
      "text/plain": [
       "<matplotlib.figure.Figure at 0x7f8a23ac6110>"
      ]
     },
     "metadata": {},
     "output_type": "display_data"
    }
   ],
   "source": [
    "Path=mpath.Path\n",
    "fig = plt.figure()\n",
    "i = 1\n",
    "for name,z in zip(['trapezoidal'], [[5j,-5+5j,-5-5j,-5j,5j]]):\n",
    "    fig.clf()\n",
    "    ax=fig.add_subplot(111)\n",
    "    verts=map(lambda z:(real(z),imag(z)), z)\n",
    "\n",
    "    codes=[Path.MOVETO]+[Path.LINETO]*(len(verts)-2)+[Path.CLOSEPOLY]\n",
    "\n",
    "    path=mpath.Path(verts,codes)\n",
    "    patch=mpatches.PathPatch(path,facecolor=[1, 0.5, 0.5], edgecolor=[1, 0.5, 0.5],alpha=1)\n",
    "    ax.add_patch(patch)\n",
    "    ax.plot([-6,4],[0,0],'--',color='black')  \n",
    "    ax.plot([0,0],[-6,6],'--',color='black')\n",
    "    ax.set_xlim(-3,2)\n",
    "    ax.set_ylim(-3,3)\n",
    "    plt.title(u'Região de A-estabilidade do método Trapezoidal')\n",
    "plt.grid()\n"
   ]
  },
  {
   "cell_type": "markdown",
   "metadata": {},
   "source": [
    "Região de A-estabilidade do método Heun:  \n",
    "  \n",
    "$y_{n+1}=y_{n} + \\frac{h}{2}[f(t_{n},y_{n})+f(t_{n+1},\\tilde{y}_{n+1})]$  \n",
    "$\\tilde{y}_{n+1} = y_n + hf(t,y)$  \n",
    "  \n",
    "$y_{n+1}=y_{n} + \\frac{h}{2}[\\lambda y_{n}+\\lambda y_{n}+(h\\lambda)^{2} y_{n}]$  \n",
    "  \n",
    "$y_{n+1}=\\Big[1 + h\\lambda +\\frac{(h\\lambda)^{2}}{2}\\Big] y_{n}$"
   ]
  },
  {
   "cell_type": "markdown",
   "metadata": {},
   "source": [
    "Resolvendo\n",
    "$1 + h\\lambda +\\frac{(h\\lambda)^{2}}{2} = e^{i\\theta}$:"
   ]
  },
  {
   "cell_type": "code",
   "execution_count": 15,
   "metadata": {
    "collapsed": true
   },
   "outputs": [],
   "source": [
    "R = np.array([])\n",
    "for i in range(len(r)):\n",
    "    k = np.roots([0.5,1,(1-r[i])])\n",
    "    R = np.append(R,k)\n",
    "    "
   ]
  },
  {
   "cell_type": "code",
   "execution_count": 16,
   "metadata": {
    "collapsed": false
   },
   "outputs": [
    {
     "data": {
      "image/png": "[encoded data removed]",
      "text/plain": [
       "<matplotlib.figure.Figure at 0x7f8a23a7c490>"
      ]
     },
     "metadata": {},
     "output_type": "display_data"
    }
   ],
   "source": [
    "Path=mpath.Path\n",
    "fig = plt.figure()\n",
    "for name,z in zip(['Heun'],[R]):\n",
    "    fig.clf()\n",
    "    ax=fig.add_subplot(111)\n",
    "\n",
    "    verts=map(lambda z:(real(z),imag(z)), z)\n",
    "\n",
    "    codes=[Path.MOVETO]+[Path.LINETO]*(len(verts)-2)+[Path.CLOSEPOLY]\n",
    "\n",
    "    path=mpath.Path(verts,codes)\n",
    "    patch=mpatches.PathPatch(path,facecolor=[1, 0.5, 0.5], edgecolor=[1, 0.5, 0.5],alpha=1)\n",
    "    ax.add_patch(patch)\n",
    "    ax.plot([-6,4],[0,0],'--',color='black')  \n",
    "    ax.plot([0,0],[-6,6],'--',color='black')\n",
    "    ax.set_xlim(-3,2)\n",
    "    ax.set_ylim(-3,3)\n",
    "    plt.title(u'Região de A-estabilidade do método Heun')\n",
    "plt.grid()\n"
   ]
  },
  {
   "cell_type": "markdown",
   "metadata": {},
   "source": [
    "Verifica-se que a região de A-estabilidade do método do Trapézio é infinitamente menor que a do método de Heun, uma vez que a região de A-estabilidade do método do Trapézio é todo o hemispaço do plano dos complexos tal que a $\\Re(h\\lambda)<0$ "
   ]
  },
  {
   "cell_type": "markdown",
   "metadata": {},
   "source": [
    "####(c) Considere a equação diferencial :\n",
    "####$\\dot{x}(t) = -10x(t)$  \n",
    "####$x(0) = 2$\n",
    "####É possivel com um passo de tamanho $h = \\frac{1}{10}$ capturar a dinâmica da solução exata da equação usando o método de Heun? Explique.\n"
   ]
  },
  {
   "cell_type": "markdown",
   "metadata": {},
   "source": [
    "Para convergir:  \n",
    "  \n",
    "$\\Big|1 + h\\lambda +\\frac{(h\\lambda)^{2}}{2}\\Big|<1$  \n",
    "  \n",
    "Caso $(i)$: \n",
    "  \n",
    "$1 + h\\lambda +\\frac{(h\\lambda)^{2}}{2} - 1 < 0$  \n",
    "  \n",
    "$h\\lambda < -2$ \n",
    "  \n",
    "Caso $(ii)$:  \n",
    "  \n",
    "$-1 - h\\lambda -\\frac{(h\\lambda)^{2}}{2} - 1 < 0$  \n",
    "  \n",
    "$\\Delta = -12$  \n",
    "  \n",
    "Qualquer valor é válido.  \n",
    "  \n",
    "Portanto a intersecção nos dá que:  \n",
    "  \n",
    "$h\\lambda < -2 \\implies h <\\frac{-2}{\\lambda}$   \n",
    "  \n",
    "Do enunciado:  \n",
    "  \n",
    "$h <\\frac{-2}{-10} = \\frac{1}{5}$, \n",
    "  \n",
    "Como $\\frac{1}{10} < \\frac{1}{5}$, podemos concluir que sim, podemos capturar a dinâmica exata da equação, pois o valor de $h$ está dentro da região de A-estabilidade."
   ]
  },
  {
   "cell_type": "markdown",
   "metadata": {},
   "source": [
    "##3. Determine a região de estabilidade absoluta (A-estabilidade) do método de Runge Kutta de ordem 4 (RK4):"
   ]
  },
  {
   "cell_type": "markdown",
   "metadata": {},
   "source": [
    "Região de A-estabilidade do método RK4:  \n",
    "  \n",
    "$Y_{1} = y_{n}$  \n",
    "  \n",
    "$Y_{2} = y_{n} + \\frac{h}{2}f(Y_{1})$  \n",
    "  \n",
    "$Y_{3} = y_{n} + \\frac{h}{2}f(Y_{2})$  \n",
    "  \n",
    "$Y_{4} = y_{n} + hf(Y_{3})$  \n",
    "  \n",
    "$y_{n+1} = y_{n} + h(\\frac{1}{6}f(Y_{1})+\\frac{1}{3}f(Y_{2})+\\frac{1}{3}f(Y_{3})+\\frac{1}{6}f(Y_{4}))$   \n",
    "  \n",
    "Substituindo e fazendo $\\mu = h\\lambda$:    \n",
    "  \n",
    "$y_{n+1} = (1+\\mu+\\frac{1}{2}\\mu^2+\\frac{1}{6}\\mu^3+\\frac{1}{24}\\mu^4)y_{n}$  \n",
    "  \n",
    "de onde tiramos que é a região de estabilidade é definida por:  \n",
    "  \n",
    "$1+\\mu+\\frac{1}{2}\\mu^2+\\frac{1}{6}\\mu^3+\\frac{1}{24}\\mu^4 = e^{i\\theta}$"
   ]
  },
  {
   "cell_type": "code",
   "execution_count": 17,
   "metadata": {
    "collapsed": false
   },
   "outputs": [],
   "source": [
    "R = np.array([])\n",
    "for i in range(len(r)):\n",
    "    k = np.roots([(1/float(24)),(1/float(6)),0.5,1,(1-r[i])])\n",
    "    R = np.append(R,k)\n",
    "M = np.array([])\n",
    "for i in range(len(r)):\n",
    "    k = np.roots([0.5,1,(1-r[i])])\n",
    "    M = np.append(M,k)\n",
    "N = np.array([])\n",
    "for i in range(len(r)):\n",
    "    k = np.roots([0.5,1,(1-r[i])])\n",
    "    N = np.append(N,k)\n",
    "    "
   ]
  },
  {
   "cell_type": "code",
   "execution_count": 18,
   "metadata": {
    "collapsed": false
   },
   "outputs": [
    {
     "data": {
      "image/png": "[encoded data removed]",
      "text/plain": [
       "<matplotlib.figure.Figure at 0x7f8a2393bc90>"
      ]
     },
     "metadata": {},
     "output_type": "display_data"
    }
   ],
   "source": [
    "Path=mpath.Path\n",
    "fig = plt.figure()\n",
    "for name,z in zip(['RK4'],[R]):\n",
    "    fig.clf()\n",
    "    ax=fig.add_subplot(111)\n",
    "\n",
    "    verts=map(lambda z:(real(z),imag(z)), z)\n",
    "\n",
    "    codes=[Path.MOVETO]+[Path.LINETO]*(len(verts)-2)+[Path.CLOSEPOLY]\n",
    "\n",
    "    path=mpath.Path(verts,codes)\n",
    "    patch=mpatches.PathPatch(path,facecolor=[1, 0.5, 0.5], edgecolor=[1, 0.5, 0.5],alpha=1)\n",
    "    ax.add_patch(patch)\n",
    "    ax.plot(1.2*N.real,1.2*N.imag, color=[1, 0.5, 0.5])\n",
    "    ax.plot(M.real+2.0355,1.7*M.imag, color=[1, 1, 1])\n",
    "    ax.plot([-6,4],[0,0],'--',color='black')  \n",
    "    ax.plot([0,0],[-6,6],'--',color='black')\n",
    "    ax.set_xlim(-3,2)\n",
    "    ax.set_ylim(-3,3)\n",
    "    plt.title(u'Região de A-estabilidade do método RK4')\n",
    "plt.grid()\n"
   ]
  },
  {
   "cell_type": "markdown",
   "metadata": {},
   "source": [
    "####(a) Compare a região de estabilidade do método acima e do Euler implícito.\n"
   ]
  },
  {
   "cell_type": "markdown",
   "metadata": {},
   "source": [
    "Euler implícito:  \n",
    "$y_{n+1} = y_{n}+hf(t_{n+1},y_{n+1})$  \n",
    "  \n",
    "$y_{n+1} = y_{n}+h\\lambda y_{n+1}$  \n",
    "  \n",
    "$(1-h\\lambda)y_{n+1}=y_{n}$  \n",
    "  \n",
    "$y_{n+1}=(1-h\\lambda)^{-1}y_{n}$  \n",
    "  \n",
    "de onde tiramos que é a região de estabilidade é definida por:\n",
    "\n",
    "$e^{i\\theta} = (1-h\\lambda)^{-1}$"
   ]
  },
  {
   "cell_type": "code",
   "execution_count": 19,
   "metadata": {
    "collapsed": false
   },
   "outputs": [],
   "source": [
    "R = np.array([])\n",
    "for i in range(len(r)):\n",
    "    k = np.roots([-r[i],(r[i]-1)])\n",
    "    R = np.append(R,k)\n",
    "    "
   ]
  },
  {
   "cell_type": "code",
   "execution_count": 20,
   "metadata": {
    "collapsed": false
   },
   "outputs": [
    {
     "data": {
      "image/png": "[encoded data removed]",
      "text/plain": [
       "<matplotlib.figure.Figure at 0x7f8a23a62390>"
      ]
     },
     "metadata": {},
     "output_type": "display_data"
    }
   ],
   "source": [
    "Path=mpath.Path\n",
    "fig = plt.figure()\n",
    "for name,z in zip(['Euler implícito'],[R]):\n",
    "    fig.clf()\n",
    "    ax=fig.add_subplot(111, axisbg=[1, 0.5, 0.5])\n",
    "\n",
    "    verts=map(lambda z:(real(z),imag(z)), z)\n",
    "\n",
    "    codes=[Path.MOVETO]+[Path.LINETO]*(len(verts)-2)+[Path.CLOSEPOLY]\n",
    "\n",
    "    path=mpath.Path(verts,codes)\n",
    "    patch=mpatches.PathPatch(path,facecolor=[1, 1, 1], edgecolor=[1, 1, 1],alpha=1)\n",
    "    ax.add_patch(patch)\n",
    "    ax.plot([-6,4],[0,0],'--',color='black')  \n",
    "    ax.plot([0,0],[-6,6],'--',color='black')\n",
    "    ax.set_xlim(-3,2)\n",
    "    ax.set_ylim(-3,3)\n",
    "    plt.title(u'Região de A-estabilidade do método Euler implícito')\n",
    "plt.grid()\n"
   ]
  },
  {
   "cell_type": "markdown",
   "metadata": {},
   "source": [
    "A região de estabilidade para o método Euler implícito é infinitamente maior que a do método RK4, uma vez que a região de estabilidade do método Euler implícito é todo o plano menos o círculo centrado em (1,0) com raio 1."
   ]
  },
  {
   "cell_type": "markdown",
   "metadata": {},
   "source": [
    "####(b) Descreva como você programaria (em pseudo-código, ou pode escrever o codigo em Python) o método RK4. (use adequadamente a estructura especial do método)"
   ]
  },
  {
   "cell_type": "markdown",
   "metadata": {},
   "source": [
    "Início  \n",
    " $\\Big|$  Função $f^{*}(X,Y) = <>$  \n",
    " $\\Big|$ Ler $X_0, Y_0$ (Cond. Iniciais)  \n",
    " $\\Big|$  Ler $X_n$ (Abscissa do ponto desejado)  \n",
    " $\\Big|$  Ler $N$ (Número de intervalos)  \n",
    " $\\Big|$  $H\\leftarrow \\frac{(X_{n}-X_{0})}{N}$  \n",
    " $\\Big|$  $X \\leftarrow X_{0};$  $Y \\leftarrow Y_{0};$  \n",
    " $\\Big|$ Para $I$ de $0$ até $N-1$ executar:  \n",
    " $\\Big|$ $\\Big|$ $K_1 \\leftarrow H*f^{*}(X,Y)$  \n",
    " $\\Big|$ $\\Big|$ $K_2 \\leftarrow H*f^{*}(X+\\frac{H}{2},Y+\\frac{K_1}{2})$  \n",
    " $\\Big|$ $\\Big|$ $K_3 \\leftarrow H*f^{*}(X+\\frac{H}{2},Y+\\frac{K_2}{2})$  \n",
    " $\\Big|$ $\\Big|$ $K_3 \\leftarrow H*f^{*}(X+H,Y+K_3)$  \n",
    " $\\Big|$ $\\Big|$ $Y\\leftarrow Y + \\frac{(K_1+2*(K_2+K_3)+K_4)}{6}$  \n",
    " $\\Big|$ Fim($I$)  \n",
    " $\\Big|$ Escrever $X_n,Y$  \n",
    " Fim"
   ]
  },
  {
   "cell_type": "markdown",
   "metadata": {},
   "source": [
    "##4. Considere a equação diferencial"
   ]
  },
  {
   "cell_type": "markdown",
   "metadata": {},
   "source": [
    "$\\dot{x}=t^{2}x+x(1-x)$  \n",
    "$x(0)=1$"
   ]
  },
  {
   "cell_type": "markdown",
   "metadata": {},
   "source": [
    "####(a) Construa os métodos de Taylor até ordem 3."
   ]
  },
  {
   "cell_type": "markdown",
   "metadata": {},
   "source": [
    "Série de Taylor:  \n",
    "$y(t+\\Delta t)=y(t)+\\Delta ty'(t)+\\frac{1}{2!}\\Delta t^{2}y''(t)+\\frac{1}{3!}\\Delta t^{3}y'''(t)+...$  \n",
    "\n",
    "Considere: $\\frac{dy}{dt}=f(t,y(t))$  \n",
    "  \n",
    "Sabemos que a ordem do método está relacionada à ordem do erro de truncamento, portanto:  "
   ]
  },
  {
   "cell_type": "markdown",
   "metadata": {},
   "source": [
    "Ordem 1 (truncanco no primeiro termo e fazendo $\\Delta t=h)$:  \n",
    "      \n",
    "$x(t+h)=x(t)+hx'(t)+\\frac{1}{2!}h^{2}x''(\\tau)$  \n",
    "desconsiderando o último termo, temos:  \n",
    "$\\omega_0 = 1$  \n",
    "$\\omega_{i+1}=\\omega_{i}+h[t^{2}\\omega_{i}+\\omega_{i}(1-\\omega_{i})]$ "
   ]
  },
  {
   "cell_type": "markdown",
   "metadata": {},
   "source": [
    "Ordem 2 (truncanco no segundo termo e fazendo $\\Delta t=h$):  \n",
    "  \n",
    "$x(t+ht)=x(t)+hx'(t)+\\frac{1}{2!}h^{2}x''(t)+\\frac{1}{3!}h^{3}x'''(\\tau)$  \n",
    "$f'(t,x(t))=\\frac{d(t^{2}x+x(1-x))}{dt}=2tx+x'(t^{2}+1-2x)=x(1+2t+2t^{2}+t^{4})+x^{2}(-3-3t^{2})-2x^{3}$  \n",
    "$\\omega_0 = 1$  \n",
    "$\\omega_{i+1}=\\omega_{i}+h\\{t^{2}\\omega_{i}+\\omega_{i}(1-\\omega_{i}))+\\frac{h}{2}[\\omega_{i}(1+2t+2t^{2}+t^{4})+\\omega_{i}^{2}(-3-3t^{2})-2\\omega_{i}^{3})]\\}$"
   ]
  },
  {
   "cell_type": "markdown",
   "metadata": {},
   "source": [
    "Ordem 3 (truncanco no segundo termo e fazendo $\\Delta t=h$):  \n",
    "$f''(t,x(t))=\\frac{d(x(1+2t+2t^{2}+t^{4})+x^{2}(-3-3t^{2})-2x^{3})}{dt}=(t^{2}x+x(1-x))[(1+2t+2t^{2}+t^{4})-12tx-6x^{2}]+x(2+4t+4t^{3})$  \n",
    "$\\omega_{i+1}=\\omega_{i}+h\\{t^{2}\\omega_{i}+\\omega_{i}(1-\\omega_{i}))+\\frac{h}{2}[\\omega_{i}(1+2t+2t^{2}+t^{4})+\\omega_{i}^{2}(-3-3t^{2})-2\\omega_{i}^{3})]+\\frac{h}{6}[(t^{2}\\omega_{i}+\\omega_{i}(1-\\omega_{i}))[(1+2t+2t^{2}+t^{4})-12t\\omega_{i}-6\\omega_{i}^{2}]+\\omega_{i}(2+4t+4t^{3})]\\}$\n"
   ]
  },
  {
   "cell_type": "markdown",
   "metadata": {},
   "source": [
    "####(b) Compare a região de estabilidade do método de Taylor ordem 3 e Euler implícito (Backward Euler) e explicito (Forward Euler)\n"
   ]
  },
  {
   "cell_type": "markdown",
   "metadata": {},
   "source": [
    "Considerando $y'=\\lambda y$, então:  \n",
    "$y^{(n)} =\\lambda^n y$  \n",
    "  \n",
    "Portanto:  \n",
    "  \n",
    "Série de Taylor:  \n",
    "$y(t+\\Delta t)=y(t)+\\Delta t\\lambda y(t)+\\frac{1}{2!}\\Delta t^{2}\\lambda^{2}y(t)+\\frac{1}{3!}\\Delta t^{3}\\lambda^{3}y(t)+...$  \n",
    "  \n",
    "Colocando $y(t)$ em evidência:  \n",
    "  \n",
    "$y(t+\\Delta t)=(1+\\Delta t\\lambda +\\frac{1}{2!}\\Delta t^{2}\\lambda^{2}+\\frac{1}{3!}\\Delta t^{3}\\lambda^{3}+...)y(t)$  \n",
    "  \n",
    "truncando no terceiro termo:  \n",
    "  \n",
    "$y_{n+1}=(1+\\Delta t\\lambda +\\frac{1}{2!}\\Delta t^{2}\\lambda^{2}+\\frac{1}{3!}\\Delta t^{3}\\lambda^{3})y_{n}$  \n",
    "  \n",
    "e portanto a região de estabilidade fica definida como:  \n",
    "fazendo $\\mu = \\Delta t\\lambda$:\n",
    "  \n",
    "$e^{i\\theta} = 1+\\mu +\\frac{1}{2!}\\mu^{2}+\\frac{1}{3!}\\mu^{3}$"
   ]
  },
  {
   "cell_type": "code",
   "execution_count": 21,
   "metadata": {
    "collapsed": false
   },
   "outputs": [],
   "source": [
    "R = np.array([])\n",
    "for i in range(len(r)):\n",
    "    k = np.roots([(1/float(4)),(1/float(2)),1,(1-r[i])])\n",
    "    R = np.append(R,k)\n",
    "M = np.array([])\n",
    "for i in range(len(r)):\n",
    "    k = np.roots([0.5,1,(1-r[i])])\n",
    "    M = np.append(M,k)\n",
    "    "
   ]
  },
  {
   "cell_type": "code",
   "execution_count": 22,
   "metadata": {
    "collapsed": false
   },
   "outputs": [
    {
     "data": {
      "image/png": "[encoded data removed]",
      "text/plain": [
       "<matplotlib.figure.Figure at 0x7f8a239d7710>"
      ]
     },
     "metadata": {},
     "output_type": "display_data"
    }
   ],
   "source": [
    "Path=mpath.Path\n",
    "fig = plt.figure()\n",
    "for name,z in zip(['RK4','teste'],[[1j,1-1j,1+1j],R]):\n",
    "    fig.clf()\n",
    "    ax=fig.add_subplot(111)\n",
    "\n",
    "    verts=map(lambda z:(real(z),imag(z)), z)\n",
    "\n",
    "    codes=[Path.MOVETO]+[Path.LINETO]*(len(verts)-2)+[Path.CLOSEPOLY]\n",
    "\n",
    "    path=mpath.Path(verts,codes)\n",
    "    patch=mpatches.PathPatch(path,facecolor=[1, 0.5, 0.5], edgecolor=[1, 0.5, 0.5],alpha=1)\n",
    "    ax.add_patch(patch)\n",
    "    ax.plot(M.real,M.imag/float(1.5), color=[1, 0.5, 0.5])\n",
    "    ax.plot(M.real+2.0335,4*M.imag, color=[1, 1, 1])\n",
    "    ax.plot([-6,4],[0,0],'--',color='black')  \n",
    "    ax.plot([0,0],[-6,6],'--',color='black')\n",
    "    ax.set_xlim(-3,2)\n",
    "    ax.set_ylim(-3,3)\n",
    "    plt.title(u'Região de A-estabilidade do método RK4')\n",
    "plt.grid()\n"
   ]
  },
  {
   "cell_type": "markdown",
   "metadata": {},
   "source": [
    "A área de estabilidade do método Taylor ordem 3 é maior que a do método Euler implícito (Backward Euler) e menor que a do método Euler explícito (Forward Euler)\n"
   ]
  },
  {
   "cell_type": "markdown",
   "metadata": {},
   "source": [
    "####(c) Pode ser o método de Taylor de ordem m A-estável para algum valor de m?. Explique."
   ]
  },
  {
   "cell_type": "markdown",
   "metadata": {},
   "source": [
    "Seja $S$ a região de estabilidade do método talque: $S=\\{h\\lambda \\in \\mathbb{C}:|R(h\\lambda)|\\leq 1\\}$, o método é chamado A-estável se $\\{h\\lambda \\in \\mathbb{C}:\\Re(h\\lambda)\\leq 0\\}$, ou seja, contém todo o semi-plano dos complexos tal que a parte Real é menor que zero. Onde $R(h\\lambda)$ é o fator multiplicativo das equações \"Stiff\""
   ]
  },
  {
   "cell_type": "markdown",
   "metadata": {},
   "source": [
    "Para o método de Taylor, temos que:  \n",
    "  \n",
    "$R(h\\lambda)=1+h\\lambda +\\frac{1}{2!}h^{2}\\lambda^{2}+\\frac{1}{3!}h^{3}\\lambda^{3}...$  \n",
    "$R(0)=1$  \n",
    "  \n",
    "Como tenhum polinômio (grau maior que zero) $R(h\\lambda)$ é limitado a 1 para todo $\\Re(h\\lambda)\\leq 0$, então não existe ordem $m$ que torne o método A-estável."
   ]
  },
  {
   "cell_type": "markdown",
   "metadata": {},
   "source": [
    "##5. Considere a equação diferencial teste x = f (t; x) e o método numérico para resolvê-la\n"
   ]
  },
  {
   "cell_type": "markdown",
   "metadata": {},
   "source": [
    "$x_{n+1}={x_n}+h(\\theta f(t_{n},x_{n})+(1-\\theta)f(t_{n+1},x_{n+1}))$  \n",
    "  \n",
    "$\\theta>0$"
   ]
  },
  {
   "cell_type": "markdown",
   "metadata": {},
   "source": [
    "####(a) Determine um intervalo $[\\alpha, \\beta]$ tal que o método é estável para todo $\\alpha\\leq\\theta\\leq\\beta$\n"
   ]
  },
  {
   "cell_type": "markdown",
   "metadata": {},
   "source": [
    "Temos:  \n",
    "  \n",
    "$x_{n+1}=x_{n}+h(\\theta\\lambda x_{n}+(1-\\theta)\\lambda x_{n+1})\\implies$  \n",
    "$\\implies x_{n+1}=x_{n}+h\\theta\\lambda x_{n} +h(1-\\theta)\\lambda x_{n+1}\\implies$  \n",
    "$\\implies x_{n+1}[1+h(\\theta-1)\\lambda]=(1+h\\theta\\lambda)x_{n}\\implies$  \n",
    "$\\implies x_{n+1}=\\frac{(1+h\\theta\\lambda)}{[1+h(\\theta-1)\\lambda]}x_{n}$  \n",
    "  \n",
    "Para convergir:  \n",
    "  \n",
    "$\\Big|\\frac{(1+h\\theta\\lambda)}{[1+h(\\theta-1)\\lambda]}\\Big|<1$  \n",
    "  \n",
    "Caso 1. \n",
    "  \n",
    "$\\frac{(1+h\\theta\\lambda)}{[1+h(\\theta-1)\\lambda]}<1\\implies$  \n",
    "$\\implies1+h\\theta\\lambda<1+h(\\theta-1)\\lambda\\implies$  \n",
    "$\\implies h\\lambda<0$  \n",
    "  \n",
    "Caso 2.  \n",
    "  \n",
    "$\\frac{-(1+h\\theta\\lambda)}{[1+h(\\theta-1)\\lambda]}<1\\implies$  \n",
    "$\\implies-1-h\\theta\\lambda<1+h(\\theta-1)\\lambda\\implies$  \n",
    "$\\implies-2-h\\lambda<2h\\theta\\lambda\\implies$  \n",
    "$\\implies\\theta>\\frac{-1}{h\\lambda}+\\frac{1}{2}$  \n",
    "  \n",
    "$\\lim_{(h\\lambda) \\to -\\infty} (\\frac{-1}{h\\lambda}+\\frac{1}{2}) = \\frac{1}{2}$  \n",
    "  \n",
    "$\\lim_{(h\\lambda) \\to 0} (\\frac{-1}{h\\lambda}+\\frac{1}{2}) = \\infty$ \n",
    "  \n",
    "portanto:  \n",
    "  \n",
    "$\\frac{1}{2}<\\theta$  \n",
    "o intervalo $[\\alpha, \\beta]$ é $(\\frac{1}{2},\\infty)$"
   ]
  },
  {
   "cell_type": "markdown",
   "metadata": {},
   "source": [
    "####(b) Descreva como você programaria (em pseudo-código) o esquema numérico acima.\n"
   ]
  },
  {
   "cell_type": "markdown",
   "metadata": {},
   "source": [
    "Início  \n",
    " $\\Big|$ Função $f^{*}(X,Y) = <>$   \n",
    " $\\Big|$ Ler $X_0, Y_0$ (Cond. Iniciais)  \n",
    " $\\Big|$ Ler $X_n$ (Abscissa do ponto desejado)  \n",
    " $\\Big|$ Ler $N$ (Número de intervalos)  \n",
    " $\\Big|$ $H\\leftarrow \\frac{(X_{n}-X_{0})}{N}$  \n",
    " $\\Big|$ $X \\leftarrow X_{0};$  $Y \\leftarrow Y_{0};$  \n",
    " $\\Big|$ Ler $\\theta$  \n",
    " $\\Big|$ Se $\\theta>\\frac{1}{2}$ executar:  \n",
    " $\\Big|$ $\\Big|$Para $i$ de $1$ até $N$ executar:   \n",
    " $\\Big|$ $\\Big|$ $\\Big|$ $Y_{i+1} \\leftarrow Y_{i}+ H*(\\theta f(X_{i},Y_{i})+(1-\\theta)f(X_{i+1},Y_{i+1}))$   \n",
    " $\\Big|$ $\\Big|$ $\\Big|$ $X_{i+1} \\leftarrow X_{i} +H$   \n",
    " $\\Big|$ $\\Big|$Fim($I$)  \n",
    " $\\Big|$  Fim(Se)  \n",
    " $\\Big|$ Escrever $X_n,Y$  \n",
    " Fim"
   ]
  },
  {
   "cell_type": "markdown",
   "metadata": {},
   "source": [
    "\n",
    "####(c) Para qual valor do parametro $\\theta$ pode se obter o método de Euler Forward, Euler Backward e o método do Trapézio?."
   ]
  },
  {
   "cell_type": "markdown",
   "metadata": {},
   "source": [
    "Euler Forward:  \n",
    "  \n",
    "$\\frac{1+h\\theta\\lambda}{1+h(\\theta-1)\\lambda}=1+h\\lambda \\implies$  \n",
    "$\\implies 1+h\\theta\\lambda=(1+h\\lambda)[1+h(\\theta-1)\\lambda]\\implies$  \n",
    "$\\implies 1+h\\theta\\lambda=1+h(\\theta-1)\\lambda +h\\lambda+h^{2}\\lambda^{2}(\\theta-1)\\implies$  \n",
    "$\\implies 1+h\\theta\\lambda=1+h\\theta\\lambda-h\\lambda +h\\lambda+h^{2}\\lambda^{2}\\theta-h^{2}\\lambda^{2}\\implies$  \n",
    "$\\implies h^{2}\\lambda^{2}(\\theta-1)=0$  \n",
    "  \n",
    "Como $h\\lambda\\neq0$(ítem anterior), temos que:  \n",
    "$\\theta=1$  \n",
    "  \n",
    "Euler Backward:  \n",
    "  \n",
    "$\\frac{1+h\\theta\\lambda}{1+h(\\theta-1)\\lambda} =\\frac{1}{1+h\\lambda}\\implies$  \n",
    "$\\implies(1+h\\theta\\lambda)(1+h\\lambda)=1+h(\\theta-1)\\lambda\\implies$  \n",
    "$\\implies1+h\\theta\\lambda-h\\lambda-h^{2}\\lambda^{2}\\theta=1+h\\theta\\lambda-h\\lambda\\implies$  \n",
    "$-h^{2}\\lambda^{2}\\theta=0$  \n",
    "  \n",
    "Como $h\\lambda\\neq0$(ítem anterior), temos que:  \n",
    "$\\theta=0$  \n",
    "  \n",
    "Trapézio:  \n",
    "  \n",
    "$\\frac{1+h\\theta\\lambda}{1+h(\\theta-1)\\lambda}=\\frac{1+\\frac{h\\lambda}{2}}{1-\\frac{h\\lambda}{2}}$  \n",
    "é imediato que:  \n",
    "$\\theta=\\frac{1}{2}$"
   ]
  },
  {
   "cell_type": "markdown",
   "metadata": {},
   "source": [
    "####(d) Como você modificaria o esquema para obter um método análogo ao método de Heun?"
   ]
  },
  {
   "cell_type": "markdown",
   "metadata": {},
   "source": [
    "Definiria $\\tilde{x}_{i+1}=x_{i}+hf(t_{i},x_{i})$, como no método de Heun;  \n",
    "  \n",
    "Escolheria $\\theta = \\frac{1}{2}$;  \n",
    "  \n",
    "Escreveria a equação do enunciado na forma:  \n",
    "  \n",
    "$x_{n+1}={x_n}+h(\\theta f(t_{n},x_{n})+(1-\\theta)f(t_{n+1},\\tilde{x}_{n+1}))$  \n",
    "  \n"
   ]
  },
  {
   "cell_type": "markdown",
   "metadata": {},
   "source": [
    "O algoritmo ficara assim:  \n",
    "  \n",
    "Início  \n",
    " $\\Big|$ Função $f^{*}(X,Y) = <>$  \n",
    " $\\Big|$ Ler $X_0, Y_0$ (Cond. Iniciais)  \n",
    " $\\Big|$ Ler $X_n$ (Abscissa do ponto desejado)  \n",
    " $\\Big|$ Ler $N$ (Número de intervalos)  \n",
    " $\\Big|$ $H\\leftarrow \\frac{(X_{n}-X_{0})}{N}$  \n",
    " $\\Big|$ $X \\leftarrow X_{0};$  $Y \\leftarrow Y_{0};$  \n",
    " $\\Big|$ $\\theta=\\frac{1}{2}$  \n",
    " $\\Big|$ $\\Big|$Para $I$ de $1$ até $N$ executar:  \n",
    " $\\Big|$ $\\Big|$ $\\Big|$ $Y^{*} \\leftarrow Y+ H*f^{*}(X,Y)$  \n",
    " $\\Big|$ $\\Big|$ $\\Big|$ $Y \\leftarrow Y+ H*(\\theta f^{*}(X,Y)+(1-\\theta)f^{*}(X+H,Y^{*}))$  \n",
    " $\\Big|$ $\\Big|$ $\\Big|$ $X \\leftarrow X +H$   \n",
    " $\\Big|$ $\\Big|$Fim($I$)  \n",
    " $\\Big|$  Fim(Se)  \n",
    " $\\Big|$ Escrever $X_n,Y$  \n",
    " Fim"
   ]
  },
  {
   "cell_type": "markdown",
   "metadata": {},
   "source": [
    "####(e) Determine o ordem de convergência global para o método obtido em d):\n"
   ]
  },
  {
   "cell_type": "markdown",
   "metadata": {},
   "source": [
    "$x_{n+1}={x_n}+h(\\theta f(t_{n},x_{n})+(1-\\theta)f(t_{n+1},\\tilde{x}_{n+1}))$\n",
    "\n",
    "Considere:  \n",
    "  \n",
    "$LTE$ = Erro local de truncamento do método;  \n",
    "$e_{n} = |x_{n}-x(t_{n})|$ = Erro global  \n",
    "  \n",
    "$(i)$ $x_{n+1}=x_{n}+\\frac{h}{2}[f(t_{n},x_{n})+f(t_{n+1},x_{n}+hf(t_{n},x_{n}))]$  \n",
    "  \n",
    "Pela série de Taylor:  \n",
    "  \n",
    "$(ii)$ $x(t_{n+1})=x(t_{n})+\\frac{h}{2}[f(t_{n},x(t_{n}))+f(t_{n+1},x(t_{n})+hf(t_{n},x(t_{n})))]+\\frac{h^{3}}{3!}f'''(t_{n},x(t_n))+...$  \n",
    "  \n",
    "$(i)-(ii)$  \n",
    "  \n",
    "$|x_{n+1}-x(t_{n+1})|=|x_{n}-x(t_{n})+\\frac{h}{2}[f(t_{n},x_{n})-f(t_{n},x(t_{n}))+f(t_{n+1},x_{n}+hf(t_{n},x_{n}))-f(t_{n+1},x(t_{n})+hf(t_{n},x(t_{n})))]+h^{3}LTE|\\leq$  \n",
    "  \n",
    "$\\leq|x_{n}-x(t_{n})|+\\frac{h}{2}(|[f(t_{n},x_{n})-f(t_{n},x(t_{n}))|)+\\frac{h}{2}(|f(t_{n+1},x_{n}+hf(t_{n},x_{n}))-f(t_{n+1},x(t_{n})+hf(t_{n},x(t_{n})))|)+|h^{3}LTE|$  \n",
    "  \n",
    "Considerando $x$ Lipschitz contínua:  \n",
    "  \n",
    "$\\leq|x_{n}-x(t_{n})|+\\frac{h}{2}L|x_{n}-x(t_{n})|+\\frac{h}{2}L|x_{n}+hf(t_{n},x_{n})-x(t_{n})+hf(t_{n},x(t_{n}))|+|h^{3}LTE|\\leq$  \n",
    "  \n",
    "$\\leq|x_{n}-x(t_{n})|+hL|x_{n}-x(t_{n})|+\\frac{h^{2}}{2}L^{2}|x_{n}-x(t_{n})|+|h^{3}LTE|=$  \n",
    "  \n",
    "$=|x_{n}-x(t_{n})|(1+hL+\\frac{h^{2}}{2}L^{2})+|h^{3}LTE|$  \n",
    "  \n",
    "Portanto:\n",
    "  \n",
    "$e_{n+1}\\leq e_{n}(1+hL+\\frac{h^{2}}{2}L^{2})+|h^{3}LTE|$  \n",
    "  \n",
    "e assim:  \n",
    "  \n",
    "$e_{n+1}\\leq (e_{n-1}(1+hL+\\frac{h^{2}}{2}L^{2})+|h^{3}LTE|)(1+hL+\\frac{h^{2}}{2}L^{2})+|h^{3}LTE| =$  \n",
    "  \n",
    "$=|e_{0}|(1+hL+\\frac{h^{2}}{2}L^{2})^{n+1}+|h^{3}LTE|(1+(1+hL+\\frac{h^{2}}{2}L^{2})+(1+hL+\\frac{h^{2}}{2}L^{2})^{2}+...+(1+hL+\\frac{h^{2}}{2}L^{2})^{n})=$  \n",
    "  \n",
    "$=|e_{0}|(1+hL+\\frac{h^{2}}{2}L^{2})^{n+1}+|h^{3}LTE|\\Bigg(\\frac{\\Big(1+hL+\\frac{h^{2}}{2}L^{2}\\Big)^{n+1}-1}{\\Big(1+hL+\\frac{h^{2}}{2}L^{2}\\Big)-1}\\Bigg)=$  \n",
    "  \n",
    "$=|e_{0}|(1+hL+\\frac{h^{2}}{2}L^{2})^{n+1}+|h^{3}LTE|\\Bigg(\\frac{\\Big(1+hL+\\frac{h^{2}}{2}L^{2}\\Big)^{n+1}-1}{\\Big(hL+\\frac{h^{2}}{2}L^{2}\\Big)}\\Bigg) \\leq$  \n",
    "  \n",
    "$\\leq |e_{0}|(1+hL+\\frac{h^{2}}{2}L^{2})^{n+1}+|h^{3}LTE|\\Bigg(\\frac{\\Big(1+hL+\\frac{h^{2}}{2}L^{2}\\Big)^{n+1}-1}{\\Big(hL+\\frac{h^{2}}{2}L^{2}\\Big)}\\Bigg)\\leq$  \n",
    "  \n",
    "$\\leq |e_{0}|e^{hL(n+1)}+|h^{3}LTE|(n+1)(n)e^{(n-1)hL} \\leq$  \n",
    "  \n",
    "$\\leq |e_{0}|e^{TL}+|h^{3}LTE|(n+1)(n)e^{TL}$  \n",
    "  \n",
    "Como  $|e_{0}| = 0$  \n",
    "  \n",
    "$|e_{n+1}| \\leq Ch^{3}$ \n",
    "  \n",
    "Portanto  \n",
    "  \n",
    "$e_{n} = O(h^{2})$  \n",
    "  \n",
    "e assim a ordem de convergência global é igual a 2"
   ]
  },
  {
   "cell_type": "code",
   "execution_count": null,
   "metadata": {
    "collapsed": true
   },
   "outputs": [],
   "source": []
  }
 ],
 "metadata": {
  "kernelspec": {
   "display_name": "Python 2",
   "language": "python",
   "name": "python2"
  },
  "language_info": {
   "codemirror_mode": {
    "name": "ipython",
    "version": 2
   },
   "file_extension": ".py",
   "mimetype": "text/x-python",
   "name": "python",
   "nbconvert_exporter": "python",
   "pygments_lexer": "ipython2",
   "version": "2.7.6"
  }
 },
 "nbformat": 4,
 "nbformat_minor": 0
}
